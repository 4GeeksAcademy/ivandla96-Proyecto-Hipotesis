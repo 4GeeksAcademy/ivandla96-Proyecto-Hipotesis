{
 "cells": [
  {
   "cell_type": "markdown",
   "id": "d9d036c6",
   "metadata": {},
   "source": [
    "# Problemas de prueba de hipótesis"
   ]
  },
  {
   "cell_type": "markdown",
   "id": "d157c4db",
   "metadata": {},
   "source": [
    "## Ejercicio 1\n",
    "\n",
    "Usted es un nutricionista que investiga dos tipos diferentes de dietas para ver si existe una diferencia significativa en la pérdida de peso después de un mes. Eliges dos grupos aleatorios de personas; un grupo sigue la primera dieta y el otro sigue la segunda. Al final del mes, se registra la pérdida de peso (en kg) de cada persona:\n",
    "\n",
    "| Diet 1 | Diet 2 |\n",
    "|:-------|:-------|\n",
    "| 2.0 | 3.0 |\n",
    "| 2.5 | 3.2 |\n",
    "| 3.0 | 3.1 |\n",
    "| 2.8 | 2.9 |\n",
    "| 2.3 | 2.8 |\n",
    "| 2.7 | 3.0 |\n",
    "| 2.5 | 3.2 |\n",
    "\n",
    "Con estos datos se busca responder a la siguiente pregunta: ¿Existe una diferencia significativa en la pérdida de peso promedio entre las personas que siguieron la primera dieta y las que siguieron la segunda dieta?\n",
    "\n",
    "Para sacar conclusiones, siga los siguientes puntos:\n",
    "\n",
    "-Enunciar la hipótesis: hipótesis nula y alternativa.\n",
    "-Realizar la prueba para comprobar la hipótesis. Puede utilizar la prueba t de Student.\n",
    "-Analizar las conclusiones."
   ]
  },
  {
   "cell_type": "markdown",
   "id": "3e3fd2e9",
   "metadata": {},
   "source": [
    "## 1.-Enunciar la hipótesis"
   ]
  },
  {
   "cell_type": "markdown",
   "id": "3d4693b6",
   "metadata": {},
   "source": [
    "-Hipótesis Nula (Ho): No se observa diferencia entre las personas que siguieron la Dieta 1 y la Dieta 2.\n"
   ]
  },
  {
   "cell_type": "markdown",
   "id": "0f7e582e",
   "metadata": {},
   "source": [
    "-Hipótesis alternativa (H1): Se puede observar una diferencia entre las personas que siguieron la Dieta 1 y las que siguieron la Dieta 2."
   ]
  },
  {
   "cell_type": "markdown",
   "id": "762694b3",
   "metadata": {},
   "source": [
    "## 2.-Realizar la prueba para comprobar la hipótesis"
   ]
  },
  {
   "cell_type": "code",
   "execution_count": 5,
   "id": "58023971",
   "metadata": {},
   "outputs": [
    {
     "name": "stdout",
     "output_type": "stream",
     "text": [
      "valor-t: -3.5383407969933938\n",
      "valor-p: 0.004083270191713912\n"
     ]
    },
    {
     "name": "stderr",
     "output_type": "stream",
     "text": [
      "/tmp/ipykernel_4246/3752216829.py:6: DeprecationWarning: Please import `ttest_ind` from the `scipy.stats` namespace; the `scipy.stats.stats` namespace is deprecated and will be removed in SciPy 2.0.0.\n",
      "  valor_t, valor_p = stats.ttest_ind(dieta_1, dieta_2)\n"
     ]
    }
   ],
   "source": [
    "from scipy.stats import stats\n",
    "\n",
    "dieta_1 = [2, 2.5, 3, 2.8, 2.3, 2.7, 2.5]\n",
    "dieta_2 = [3, 3.2, 3.1, 2.9, 2.8, 3, 3.2]\n",
    "\n",
    "valor_t, valor_p = stats.ttest_ind(dieta_1, dieta_2)\n",
    "\n",
    "print(f\"valor-t: {valor_t}\")\n",
    "print(f\"valor-p: {valor_p}\")\n"
   ]
  },
  {
   "cell_type": "markdown",
   "id": "924effc6",
   "metadata": {},
   "source": [
    "## 3.-Conclusión"
   ]
  },
  {
   "cell_type": "markdown",
   "id": "e6f0305d",
   "metadata": {},
   "source": [
    "Al obtener menos de un 0.05 en el valor de P, la hipótesis nula se rechaza ya que sí que hay una diferencia apreciable entre las dos dietas. Con un valor mayor de P se podría haber observado que no habría una gran diferencia."
   ]
  },
  {
   "cell_type": "markdown",
   "id": "f432e18e",
   "metadata": {},
   "source": [
    "## ANOVA\n",
    "\n",
    "**ANOVA** (*Analysis of Variance - Análisis de variación*) Es una técnica estadística utilizada para comparar las medidas de dos o más grupos. La idea detrás de ANOVA es descomponer la variabilidad total de los datos en dos componentes: variabilidad entre grupos y variabilidad dentro de los grupos:\n",
    "\n",
    "- **Variabilidad entre grupos**: Esta variabilidad se refiere a las diferencias entre las medias del grupo. Si esta variabilidad es considerablemente mayor que la variabilidad dentro del grupo, podría ser una indicación de que al menos una de las medias del grupo es diferente.\n",
    "- **Variabilidad dentro del grupo**: Esta variabilidad se refiere a la dispersión de los datos dentro de cada grupo. Si todos los grupos tienen una variabilidad similar, entonces cualquier diferencia notable en las medias de los grupos podría considerarse significativa.\n",
    "\n",
    "Las hipótesis en ANOVA suelen incluir:\n",
    "\n",
    "- **Hipótesis nula** ($H₀$): Las medias de todos los grupos son iguales.\n",
    "- **Hipótesis alternativa** ($H₁$): Al menos una de las medias del grupo es diferente.\n",
    "\n",
    "Si el resultado de la prueba ANOVA es significativo (por ejemplo, un valor p inferior a un umbral como 0,05), esto sugiere que al menos la media de un grupo es diferente."
   ]
  },
  {
   "cell_type": "markdown",
   "id": "fc5f3721",
   "metadata": {},
   "source": [
    "## Ejercicio 2\n",
    "\n",
    "Un agricultor decide probar tres tipos diferentes de fertilizantes para determinar si alguno es superior en términos de producción de maíz. El agricultor planta maíz en 15 parcelas idénticas y utiliza los tres fertilizantes (5 parcelas para cada tipo). Al final de la temporada mide el rendimiento de maíz (en kg) de cada parcela, con el siguiente resultado:\n",
    "\n",
    "| Fertilizante 1 | Fertilizante 2 | Fertilizante 3 |\n",
    "|:-------------|:-------------|:-------------|\n",
    "| 20 | 22 | 24 |\n",
    "| 21 | 21 | 23 |\n",
    "| 20 | 23 | 22 |\n",
    "| 19 | 22 | 23 |\n",
    "| 20 | 21 | 24 |\n",
    "\n",
    "Con estos datos busca responder la siguiente pregunta: ¿Existe una diferencia significativa en el rendimiento promedio del maíz entre los tres tipos de fertilizantes?\n",
    "\n",
    "Para ayudarte, sigue los siguientes puntos:\n",
    "\n",
    "-Enunciar la hipótesis: hipótesis nula y alternativa.\n",
    "-Realizar la prueba ANOVA.\n",
    "-Analizar las conclusiones.\n",
    "-Si un fertilizante es mejor que otro, ¿cómo podemos saberlo?"
   ]
  },
  {
   "cell_type": "markdown",
   "id": "9a951649",
   "metadata": {},
   "source": [
    "## 1.- Enunciar la hipótesis"
   ]
  },
  {
   "cell_type": "markdown",
   "id": "63ceb0aa",
   "metadata": {},
   "source": [
    "-**Hipótesis nula** (Ho): El rendimiento de los tres fertilizantes es igual."
   ]
  },
  {
   "cell_type": "markdown",
   "id": "241ea36e",
   "metadata": {},
   "source": [
    "-**Hipótesis alternativa** (H1): Como mínimo uno de los rendimientos de los distintos fertilizantes es diferente"
   ]
  },
  {
   "cell_type": "markdown",
   "id": "ec2cd23d",
   "metadata": {},
   "source": [
    "## 2.-Prueba ANOVA"
   ]
  },
  {
   "cell_type": "code",
   "execution_count": 4,
   "id": "95dd4d95",
   "metadata": {},
   "outputs": [
    {
     "name": "stdout",
     "output_type": "stream",
     "text": [
      "valor-f: 20.31578947368421\n",
      "valor-p: 0.000140478247931904\n"
     ]
    }
   ],
   "source": [
    "import scipy.stats as stats\n",
    "\n",
    "fertilizante_1 = [20, 21, 20, 19, 20]\n",
    "fertilizante_2 = [22, 21, 23, 22, 21]\n",
    "fertilizante_3 = [24, 23, 22, 23, 24]\n",
    "\n",
    "valor_f, valor_p = stats.f_oneway(fertilizante_1, fertilizante_2, fertilizante_3)\n",
    "\n",
    "print(f\"valor-f: {valor_f}\")\n",
    "print(f\"valor-p: {valor_p}\")"
   ]
  },
  {
   "cell_type": "markdown",
   "id": "183f3279",
   "metadata": {},
   "source": [
    "## 3.-Conclusión"
   ]
  },
  {
   "cell_type": "markdown",
   "id": "a3975932",
   "metadata": {},
   "source": [
    "Obteniendo un valor de p menor de 0.05, se rechaza la hipótesis nula y se confirma que hay una diferencia entre, como mínimo, dos fertilizantes."
   ]
  },
  {
   "cell_type": "markdown",
   "id": "2b62c494",
   "metadata": {},
   "source": [
    "## 4.- ¿Cómo sabemos qué fertilizante es mejor?"
   ]
  }
 ],
 "metadata": {
  "kernelspec": {
   "display_name": "Python 3",
   "language": "python",
   "name": "python3"
  },
  "language_info": {
   "codemirror_mode": {
    "name": "ipython",
    "version": 3
   },
   "file_extension": ".py",
   "mimetype": "text/x-python",
   "name": "python",
   "nbconvert_exporter": "python",
   "pygments_lexer": "ipython3",
   "version": "3.11.4"
  }
 },
 "nbformat": 4,
 "nbformat_minor": 5
}
